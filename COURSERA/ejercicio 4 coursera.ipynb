{
 "cells": [
  {
   "cell_type": "code",
   "execution_count": 1,
   "metadata": {},
   "outputs": [],
   "source": [
    "import tensorflow as tf\n",
    "from os import path, getcwd, chdir\n",
    "path = f\"{getcwd()}/mnist.npz\""
   ]
  },
  {
   "cell_type": "code",
   "execution_count": null,
   "metadata": {},
   "outputs": [],
   "source": []
  },
  {
   "cell_type": "code",
   "execution_count": 7,
   "metadata": {},
   "outputs": [],
   "source": [
    "# GRADED FUNCTION: train_mnist_conv\n",
    "def train_mnist_conv():\n",
    "    # Please write your code only where you are indicated.\n",
    "    # please do not remove model fitting inline comments.\n",
    "\n",
    "    # YOUR CODE STARTS HERE\n",
    "    class myCallback(tf.keras.callbacks.Callback):\n",
    "        def on_epoch_end(self, epoch, logs={}):\n",
    "            if(logs.get('accuracy')>0.998):\n",
    "                print(\"\\nReached 99.8% accuracy so cancelling training!\")\n",
    "                self.model.stop_training = True \n",
    "    callbacks = myCallback()\n",
    "    # YOUR CODE ENDS HERE\n",
    "\n",
    "    mnist = tf.keras.datasets.mnist\n",
    "    (training_images, training_labels), (test_images, test_labels) = mnist.load_data(path=path)\n",
    "    # YOUR CODE STARTS HERE\n",
    "    training_images=training_images.reshape(60000, 28, 28, 1) \n",
    "    training_images=training_images / 255.0\n",
    "    test_images = test_images.reshape(10000, 28, 28, 1)\n",
    "    test_images=test_images/255.0\n",
    "    # YOUR CODE ENDS HERE\n",
    "\n",
    "    model = tf.keras.models.Sequential([\n",
    "            # YOUR CODE STARTS HERE\n",
    "       tf.keras.layers.Conv2D(64, (3,3), activation='relu', input_shape=(28, 28, 1)),\n",
    "       tf.keras.layers.MaxPooling2D(2, 2),\n",
    "       tf.keras.layers.Flatten(),\n",
    "       tf.keras.layers.Dense(128, activation='relu'),\n",
    "       tf.keras.layers.Dense(10, activation='softmax')\n",
    "            # YOUR CODE ENDS HERE\n",
    "    ])\n",
    "\n",
    "    model.compile(optimizer='adam', loss='sparse_categorical_crossentropy', metrics=['accuracy'])\n",
    "    # model fitting\n",
    "    history = model.fit(\n",
    "        # YOUR CODE STARTS HERE\n",
    "        training_images, training_labels, epochs=20, callbacks=[callbacks]\n",
    "        # YOUR CODE ENDS HERE\n",
    "    )\n",
    "    test_loss = model.evaluate(test_images, test_labels)\n",
    "    # model fitting\n",
    "    return history.epoch, history.history['accuracy'][-1]\n"
   ]
  },
  {
   "cell_type": "code",
   "execution_count": 8,
   "metadata": {},
   "outputs": [
    {
     "name": "stdout",
     "output_type": "stream",
     "text": [
      "Train on 60000 samples\n",
      "Epoch 1/20\n",
      "60000/60000 [==============================] - 87s 1ms/sample - loss: 0.1445 - accuracy: 0.9566\n",
      "Epoch 2/20\n",
      "60000/60000 [==============================] - 82s 1ms/sample - loss: 0.0476 - accuracy: 0.9852\n",
      "Epoch 3/20\n",
      "60000/60000 [==============================] - 87s 1ms/sample - loss: 0.0304 - accuracy: 0.9904\n",
      "Epoch 4/20\n",
      "60000/60000 [==============================] - 77s 1ms/sample - loss: 0.0202 - accuracy: 0.9937\n",
      "Epoch 5/20\n",
      "60000/60000 [==============================] - 65s 1ms/sample - loss: 0.0140 - accuracy: 0.9955\n",
      "Epoch 6/20\n",
      "60000/60000 [==============================] - 64s 1ms/sample - loss: 0.0090 - accuracy: 0.9971\n",
      "Epoch 7/20\n",
      "60000/60000 [==============================] - 64s 1ms/sample - loss: 0.0077 - accuracy: 0.9974\n",
      "Epoch 8/20\n",
      "60000/60000 [==============================] - 65s 1ms/sample - loss: 0.0059 - accuracy: 0.9980\n",
      "Epoch 9/20\n",
      "59968/60000 [============================>.] - ETA: 0s - loss: 0.0046 - accuracy: 0.9985\n",
      "Reached 99.8% accuracy so cancelling training!\n",
      "60000/60000 [==============================] - 65s 1ms/sample - loss: 0.0046 - accuracy: 0.9985\n",
      "10000/10000 [==============================] - 4s 353us/sample - loss: 0.0539 - accuracy: 0.9862\n"
     ]
    }
   ],
   "source": [
    "_, _ = train_mnist_conv()"
   ]
  },
  {
   "cell_type": "code",
   "execution_count": null,
   "metadata": {},
   "outputs": [],
   "source": []
  }
 ],
 "metadata": {
  "kernelspec": {
   "display_name": "gpu",
   "language": "python",
   "name": "gpu"
  },
  "language_info": {
   "codemirror_mode": {
    "name": "ipython",
    "version": 3
   },
   "file_extension": ".py",
   "mimetype": "text/x-python",
   "name": "python",
   "nbconvert_exporter": "python",
   "pygments_lexer": "ipython3",
   "version": "3.7.7"
  }
 },
 "nbformat": 4,
 "nbformat_minor": 4
}
