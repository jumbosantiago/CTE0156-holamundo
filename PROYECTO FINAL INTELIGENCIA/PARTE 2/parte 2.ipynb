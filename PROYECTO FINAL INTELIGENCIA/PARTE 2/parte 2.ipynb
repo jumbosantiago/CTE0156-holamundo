{
 "cells": [
  {
   "cell_type": "code",
   "execution_count": 1,
   "metadata": {},
   "outputs": [],
   "source": [
    "import cv2 \n",
    "import os\n",
    "import numpy as np\n",
    "personas = [\"Santiago Jumbo\",\"Erik Guaillasaca\"]"
   ]
  },
  {
   "cell_type": "code",
   "execution_count": 2,
   "metadata": {},
   "outputs": [],
   "source": [
    "def dameCaras(img):\n",
    "    gris = cv2.cvtColor(img, cv2.COLOR_BGR2GRAY)\n",
    "    face_cascade = cv2.CascadeClassifier('haarcascade_frontalface_default.xml')\n",
    "    caras = face_cascade.detectMultiScale(gris, scaleFactor=1.2, minNeighbors=5);\n",
    "    if (len(caras) == 0):\n",
    "        return None, None\n",
    "    \n",
    "    (x, y, w, h) = caras[0]\n",
    "    return gris[y:y+w, x:x+h], caras[0]"
   ]
  },
  {
   "cell_type": "code",
   "execution_count": 3,
   "metadata": {},
   "outputs": [],
   "source": [
    "def prepararDatosEntrenamiento(ruta):\n",
    "    \n",
    "    directorios = os.listdir(ruta)\n",
    "    caras = []\n",
    "    labels = []\n",
    "    \n",
    "    for nombreDire in directorios:\n",
    "        \n",
    "        label = int(nombreDire)\n",
    "        \n",
    "        rutaDirectorioPersona = ruta + \"/\" + nombreDire\n",
    "        \n",
    "        listaImagenesPersona = os.listdir(rutaDirectorioPersona)\n",
    "\n",
    "        for nombreImagen in listaImagenesPersona:\n",
    "            rutaImagen = rutaDirectorioPersona + \"/\" + nombreImagen\n",
    "            \n",
    "            imagen = cv2.imread(rutaImagen)\n",
    "            \n",
    "            cv2.imshow(\"Entrenando modelo............\", imagen)\n",
    "            cv2.waitKey(100)\n",
    "            \n",
    "            face, rect = dameCaras(imagen)\n",
    "            \n",
    "            if face is not None:\n",
    "                caras.append(face)\n",
    "                labels.append(label)\n",
    "        \n",
    "    cv2.destroyAllWindows()\n",
    "    cv2.waitKey(1)\n",
    "    cv2.destroyAllWindows()\n",
    "    \n",
    "    return caras, labels"
   ]
  },
  {
   "cell_type": "code",
   "execution_count": 4,
   "metadata": {},
   "outputs": [
    {
     "name": "stdout",
     "output_type": "stream",
     "text": [
      "Preparandos datos...\n",
      "Datos preparados\n",
      "Total caras:  262\n",
      "Total labels:  262\n"
     ]
    }
   ],
   "source": [
    "print(\"Preparandos datos...\")\n",
    "caras, labels = prepararDatosEntrenamiento(\"entrenamiento\")\n",
    "print(\"Datos preparados\")\n",
    "print(\"Total caras: \", len(caras))\n",
    "print(\"Total labels: \", len(labels))"
   ]
  },
  {
   "cell_type": "code",
   "execution_count": 5,
   "metadata": {},
   "outputs": [],
   "source": [
    "face_recognizer = cv2.face.LBPHFaceRecognizer_create()"
   ]
  },
  {
   "cell_type": "code",
   "execution_count": 6,
   "metadata": {},
   "outputs": [],
   "source": [
    "face_recognizer.train(caras, np.array(labels))"
   ]
  },
  {
   "cell_type": "code",
   "execution_count": 7,
   "metadata": {},
   "outputs": [],
   "source": [
    "def pintarRectangulo(img, rect):\n",
    "    (x, y, w, h) = rect\n",
    "    cv2.rectangle(img, (x, y), (x+w, y+h), (0, 255, 0), 2)\n",
    "def escribirTexto(img, text, x, y):\n",
    "    cv2.putText(img, text, (x, y), cv2.FONT_HERSHEY_PLAIN, 1.5, (0, 255, 0),2)"
   ]
  },
  {
   "cell_type": "code",
   "execution_count": 8,
   "metadata": {},
   "outputs": [],
   "source": [
    "def predecir(imagenTest):\n",
    "    img = imagenTest.copy()\n",
    "    cara, rect = dameCaras(img)\n",
    "    label= face_recognizer.predict(cara)\n",
    "    if label is not None:\n",
    "        label_text = personas[label[0]]\n",
    "        pintarRectangulo(img, rect)\n",
    "        escribirTexto(img, label_text, rect[0], rect[1]-5)\n",
    "    return img"
   ]
  },
  {
   "cell_type": "code",
   "execution_count": 9,
   "metadata": {
    "scrolled": true
   },
   "outputs": [
    {
     "name": "stdout",
     "output_type": "stream",
     "text": [
      "Predicción completa\n"
     ]
    }
   ],
   "source": [
    "testImg0 = cv2.imread(\"validacion/test0.jpg\")\n",
    "testImg1 = cv2.imread(\"validacion/test1.jpg\")\n",
    "prediccionImg0 = predecir(testImg0)\n",
    "prediccionImg1 = predecir(testImg1)\n",
    "print(\"Predicción completa\")\n",
    "cv2.imshow(personas[0], prediccionImg0)\n",
    "cv2.imshow(personas[1], prediccionImg1)\n",
    "cv2.waitKey(0)\n",
    "cv2.destroyAllWindows()"
   ]
  },
  {
   "cell_type": "code",
   "execution_count": 19,
   "metadata": {
    "scrolled": true
   },
   "outputs": [],
   "source": [
    "import cv2\n",
    "import time \n",
    "from keras.models import load_model\n",
    "def laptop_camera_go():\n",
    "    cv2.namedWindow(\"Deteccion facial\")\n",
    "    vc = cv2.VideoCapture(0)\n",
    "\n",
    "    if vc.isOpened(): \n",
    "        rval, frame = vc.read()\n",
    "    else:\n",
    "        rval = True\n",
    "    \n",
    "    while rval:\n",
    "        frame = predecir(frame)\n",
    "        cv2.imshow(\"Deteccion facial activada\", frame)\n",
    "        key = cv2.waitKey(20)\n",
    "        if key > 0: \n",
    "            cv2.destroyAllWindows()\n",
    "            for i in range (1,5):\n",
    "                cv2.waitKey(1)\n",
    "            return\n",
    "        time.sleep(0.05)             \n",
    "        rval, frame = vc.read()\n",
    "laptop_camera_go()"
   ]
  },
  {
   "cell_type": "code",
   "execution_count": null,
   "metadata": {},
   "outputs": [],
   "source": []
  },
  {
   "cell_type": "code",
   "execution_count": null,
   "metadata": {},
   "outputs": [],
   "source": []
  }
 ],
 "metadata": {
  "kernelspec": {
   "display_name": "Python 3",
   "language": "python",
   "name": "python3"
  },
  "language_info": {
   "codemirror_mode": {
    "name": "ipython",
    "version": 3
   },
   "file_extension": ".py",
   "mimetype": "text/x-python",
   "name": "python",
   "nbconvert_exporter": "python",
   "pygments_lexer": "ipython3",
   "version": "3.6.10"
  }
 },
 "nbformat": 4,
 "nbformat_minor": 4
}
