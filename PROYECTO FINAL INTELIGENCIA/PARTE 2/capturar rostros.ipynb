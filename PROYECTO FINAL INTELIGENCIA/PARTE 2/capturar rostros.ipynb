{
 "cells": [
  {
   "cell_type": "code",
   "execution_count": 2,
   "metadata": {},
   "outputs": [],
   "source": [
    "import cv2\n",
    "import os\n",
    "\n",
    "if not os.path.exists('Rostros encontrados'):\n",
    "\tprint('Carpeta creada: Rostros encontrados')\n",
    "\tos.makedirs('Rostros encontrados')\n",
    "\n",
    "cap = cv2.VideoCapture(0,cv2.CAP_DSHOW)\n",
    "\n",
    "faceClassif = cv2.CascadeClassifier('haarcascade_frontalface_default.xml')\n",
    " \n",
    "count = 0\n",
    "while True:\n",
    "\tret,frame = cap.read()\n",
    "\tframe = cv2.flip(frame,1)\n",
    "\tgray = cv2.cvtColor(frame, cv2.COLOR_BGR2GRAY)\n",
    "\tauxFrame = frame.copy()\n",
    "\n",
    "\tfaces = faceClassif.detectMultiScale(gray, 1.3, 5)\n",
    "\n",
    "\tk = cv2.waitKey(1)\n",
    "\tif k == 27:\n",
    "\t\tbreak\n",
    "\n",
    "\tfor (x,y,w,h) in faces:\n",
    "\t\t#cv2.rectangle(frame, (x,y),(x+w,y+h),(128,0,255),2)\n",
    "\t\trostro = auxFrame[y:y+h,x:x+w]\n",
    "\t\trostro = cv2.resize(rostro,(300,300), interpolation=cv2.INTER_CUBIC)\n",
    "\t\tif k == ord('s'):\n",
    "\t\t\tcv2.imwrite('Rostros encontrados/rostro_{}.jpg'.format(count),frame)\n",
    "\t\t\tcv2.imshow('rostro',rostro)\n",
    "\t\t\tcount = count +1\n",
    "\tcv2.rectangle(frame,(10,5),(450,25),(255,255,255),-1)\n",
    "\tcv2.putText(frame,'Presione s, para almacenar los rostros encontrados',(10,20), 2, 0.5,(128,0,255),1,cv2.LINE_AA)\n",
    "\tcv2.imshow('frame',frame)\n",
    "\n",
    "cap.release()\n",
    "cv2.destroyAllWindows()"
   ]
  },
  {
   "cell_type": "code",
   "execution_count": null,
   "metadata": {},
   "outputs": [],
   "source": []
  },
  {
   "cell_type": "code",
   "execution_count": null,
   "metadata": {},
   "outputs": [],
   "source": []
  }
 ],
 "metadata": {
  "kernelspec": {
   "display_name": "Python 3",
   "language": "python",
   "name": "python3"
  },
  "language_info": {
   "codemirror_mode": {
    "name": "ipython",
    "version": 3
   },
   "file_extension": ".py",
   "mimetype": "text/x-python",
   "name": "python",
   "nbconvert_exporter": "python",
   "pygments_lexer": "ipython3",
   "version": "3.6.10"
  }
 },
 "nbformat": 4,
 "nbformat_minor": 4
}
