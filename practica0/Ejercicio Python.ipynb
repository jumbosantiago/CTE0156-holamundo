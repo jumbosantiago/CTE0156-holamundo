{
 "cells": [
  {
   "cell_type": "code",
   "execution_count": 1,
   "metadata": {},
   "outputs": [
    {
     "name": "stdout",
     "output_type": "stream",
     "text": [
      "dict_keys(['Trabajo', 'Cocinar', 'Comprar', 'Dormir'])\n",
      "dict_values([('musico', 'docente', 'estudiante', 0, ['universidad', 'companeros']), ('pollo', 'carne', 25, 0, 'arroz'), ('viveres', 'frutas', ['manzana', 'pera'], 'ropa'), ('30min', '60min', 25, 0, '2 dias')])\n"
     ]
    }
   ],
   "source": [
    "Lunes=dict(Trabajo        =('musico','docente',\"estudiante\",0,[\"universidad\",\"companeros\"]),\n",
    "           Cocinar     =('pollo','carne',25,0,'arroz'),\n",
    "           Comprar      =('viveres','frutas',[\"manzana\",\"pera\"],\"ropa\"),\n",
    "           Dormir         =('30min','60min',25,0,'2 dias'))\n",
    "print(Lunes.keys())\n",
    "print(Lunes.values())"
   ]
  },
  {
   "cell_type": "code",
   "execution_count": 2,
   "metadata": {},
   "outputs": [
    {
     "name": "stdout",
     "output_type": "stream",
     "text": [
      "('Dormir', ('30min', '60min', 25, 0, '2 dias'))\n",
      "('Comprar', ('viveres', 'frutas', ['manzana', 'pera'], 'ropa'))\n",
      "('Cocinar', ('pollo', 'carne', 25, 0, 'arroz'))\n",
      "('Trabajo', ('musico', 'docente', 'estudiante', 0, ['universidad', 'companeros']))\n"
     ]
    }
   ],
   "source": [
    "b=0\n",
    "a=len(Lunes)\n",
    "while b<a:\n",
    "        b=b+1\n",
    "        print(Lunes.popitem())\n",
    "    "
   ]
  },
  {
   "cell_type": "code",
   "execution_count": null,
   "metadata": {},
   "outputs": [],
   "source": []
  }
 ],
 "metadata": {
  "kernelspec": {
   "display_name": "Python 3",
   "language": "python",
   "name": "python3"
  },
  "language_info": {
   "codemirror_mode": {
    "name": "ipython",
    "version": 3
   },
   "file_extension": ".py",
   "mimetype": "text/x-python",
   "name": "python",
   "nbconvert_exporter": "python",
   "pygments_lexer": "ipython3",
   "version": "3.7.6"
  }
 },
 "nbformat": 4,
 "nbformat_minor": 4
}
